{
 "cells": [
  {
   "cell_type": "code",
   "execution_count": null,
   "metadata": {},
   "outputs": [],
   "source": [
    "import os\n",
    "import numpy as np\n",
    "import pandas as pd\n",
    "import tensorflow as tf\n",
    "from tensorflow.keras import Model\n",
    "from tensorflow.keras.layers import Add, GlobalAveragePooling2D, Dense, Flatten, Conv2D, Lambda, Input, BatchNormalization, Activation\n",
    "from tensorflow.keras.optimizers import schedules, SGD\n",
    "from tensorflow.keras.callbacks import TensorBoard, ModelCheckpoint\n",
    "from tensorflow.keras.utils import to_categorical\n",
    "from sklearn.model_selection import train_test_split"
   ]
  },
  {
   "cell_type": "code",
   "execution_count": null,
   "metadata": {},
   "outputs": [],
   "source": [
    "# def load_dataset():\n",
    "    \"\"\"\n",
    "    Load the FER2013 dataset.\n",
    "    \"\"\"\n",
    "file_path = '/kaggle/input/fer2013/fer2013.csv'\n",
    "data = pd.read_csv(file_path)\n",
    "\n",
    "pixels = data['pixels'].tolist()\n",
    "width, height = 48, 48\n",
    "faces = []\n",
    "for pixel_sequence in pixels:\n",
    "    face = np.asarray([int(pixel) for pixel in pixel_sequence.split(' ')]).reshape(width, height)\n",
    "    face = np.stack((face,)*3, axis=-1)  # Convert to RGB\n",
    "    faces.append(face)\n",
    "faces = np.array(faces)\n",
    "faces = faces.astype('float32') / 255.0\n",
    "\n",
    "emotions = pd.get_dummies(data['emotion']).values\n",
    "\n",
    "# Split the data into training and testing sets\n",
    "train_size = int(0.8 * len(faces))\n",
    "X_train, X_test = faces[:train_size], faces[train_size:]\n",
    "y_train, y_test = emotions[:train_size], emotions[train_size:]\n",
    "\n",
    "#     return (X_train, y_train), (X_test, y_test)"
   ]
  }
 ],
 "metadata": {
  "language_info": {
   "name": "python"
  }
 },
 "nbformat": 4,
 "nbformat_minor": 2
}
